{
 "cells": [
  {
   "cell_type": "markdown",
   "metadata": {},
   "source": [
    "# SpiderNet Basic Testing\n",
    "\n",
    "Test basic functionality of the network: sampling from a replay buffer and training on the sampled batch. Make sure NN is minimising loss."
   ]
  },
  {
   "cell_type": "code",
   "execution_count": 1,
   "metadata": {},
   "outputs": [],
   "source": [
    "from spiderNet import *\n",
    "import numpy as np\n",
    "import random\n",
    "import matplotlib.pyplot as plt"
   ]
  },
  {
   "cell_type": "code",
   "execution_count": 2,
   "metadata": {},
   "outputs": [
    {
     "name": "stdout",
     "output_type": "stream",
     "text": [
      "[6 5 8 ... 4 3 8]\n"
     ]
    },
    {
     "data": {
      "text/plain": [
       "array([[0.13178862, 0.91640677, 0.87810025, ..., 0.09478314, 0.3140066 ,\n",
       "        0.68097707],\n",
       "       [0.69835117, 0.52564979, 0.81632995, ..., 0.74580976, 0.18351994,\n",
       "        0.92611257],\n",
       "       [0.71652182, 0.42784679, 0.79839134, ..., 0.51927998, 0.99711167,\n",
       "        0.35165947],\n",
       "       ...,\n",
       "       [0.33365613, 0.41123555, 0.91434559, ..., 0.74940144, 0.54144339,\n",
       "        0.34576772],\n",
       "       [0.25755149, 0.58878569, 0.30931744, ..., 0.64278906, 0.74138198,\n",
       "        0.29601537],\n",
       "       [0.36016603, 0.14580441, 0.28505043, ..., 0.63843469, 0.90697858,\n",
       "        0.35906667]])"
      ]
     },
     "execution_count": 2,
     "metadata": {},
     "output_type": "execute_result"
    }
   ],
   "source": [
    "\"\"\"\n",
    "example feature vectors: state vector size 5, action vector size 5\n",
    "state-action feature vector size 10\n",
    "\n",
    "state = [0.3, 0.4, 1.2, 2.6, 0.2]\n",
    "action = [1.4, 0.2, 0.7, 1.2, 0.3]\n",
    "\n",
    "state_action = state + action\n",
    "\"\"\"\n",
    "\n",
    "# make a fake dataset to test if the NN works properly\n",
    "# size is 10000\n",
    "data_size = 10000\n",
    "\n",
    "# 'frontier' would be all the feature vectors in the replay buffer\n",
    "frontier = np.random.rand(data_size,10)\n",
    "\n",
    "# Q_true is a made up array of targets just to check that the NN\n",
    "# is minimising properly, in real implementation the target would\n",
    "# be dynamically defined using reinforcement lerning\n",
    "Q_true = np.random.randint(0,10,size=data_size)\n",
    "\n",
    "print(Q_true)\n",
    "\n",
    "frontier"
   ]
  },
  {
   "cell_type": "code",
   "execution_count": 3,
   "metadata": {},
   "outputs": [
    {
     "data": {
      "text/plain": [
       "tensor([[-0.0772],\n",
       "        [-0.1187],\n",
       "        [-0.1529],\n",
       "        ...,\n",
       "        [-0.1221],\n",
       "        [-0.1025],\n",
       "        [-0.1214]], grad_fn=<AddmmBackward>)"
      ]
     },
     "execution_count": 3,
     "metadata": {},
     "output_type": "execute_result"
    }
   ],
   "source": [
    "# check forward prop works\n",
    "spidernet = spiderNet(input_dimension=10)\n",
    "\n",
    "Q = spidernet.network.forward(torch.tensor(frontier).float())\n",
    "\n",
    "Q"
   ]
  },
  {
   "cell_type": "code",
   "execution_count": 4,
   "metadata": {},
   "outputs": [
    {
     "name": "stdout",
     "output_type": "stream",
     "text": [
      "torch.Size([32, 10])\n"
     ]
    },
    {
     "name": "stderr",
     "output_type": "stream",
     "text": [
      "/Users/Ricardo/anaconda3/lib/python3.7/site-packages/torch/nn/modules/loss.py:431: UserWarning: Using a target size (torch.Size([10000])) that is different to the input size (torch.Size([128, 1])). This will likely lead to incorrect results due to broadcasting. Please ensure they have the same size.\n",
      "  return F.mse_loss(input, target, reduction=self.reduction)\n"
     ]
    }
   ],
   "source": [
    "# check batch sampling from frontier works\n",
    "minibatch = random.sample(list(frontier),32)\n",
    "print(torch.tensor(minibatch).float().shape)\n",
    "\n",
    "losses = []\n",
    "\n",
    "# training steps\n",
    "steps = 100\n",
    "# batch size\n",
    "batch = 128\n",
    "\n",
    "# train\n",
    "for i in range(steps):\n",
    "    # make sure frontier and targets are sampled in the same way\n",
    "    random.seed(random.randint(0,1000))\n",
    "    \n",
    "    minibatch = random.sample(list(frontier),batch)\n",
    "    Q_true_sample = random.sample(list(Q_true),batch)\n",
    "    \n",
    "    # train on batch\n",
    "    loss = spidernet.train(torch.tensor(minibatch).float(), torch.tensor(Q_true).float())\n",
    "    losses.append(loss)"
   ]
  },
  {
   "cell_type": "code",
   "execution_count": 5,
   "metadata": {},
   "outputs": [
    {
     "data": {
      "image/png": "[encoded data removed]",
      "text/plain": [
       "<Figure size 660x440 with 1 Axes>"
      ]
     },
     "metadata": {
      "needs_background": "light"
     },
     "output_type": "display_data"
    }
   ],
   "source": [
    "# check loss is going down\n",
    "plt.figure(dpi=110)\n",
    "plt.plot([i for i in range(steps)], losses)\n",
    "plt.yscale(\"log\")\n",
    "plt.ylabel(\"loss\")\n",
    "plt.xlabel(\"steps\")\n",
    "plt.show()"
   ]
  },
  {
   "cell_type": "code",
   "execution_count": null,
   "metadata": {},
   "outputs": [],
   "source": []
  },
  {
   "cell_type": "code",
   "execution_count": null,
   "metadata": {},
   "outputs": [],
   "source": []
  }
 ],
 "metadata": {
  "kernelspec": {
   "display_name": "Python 3",
   "language": "python",
   "name": "python3"
  },
  "language_info": {
   "codemirror_mode": {
    "name": "ipython",
    "version": 3
   },
   "file_extension": ".py",
   "mimetype": "text/x-python",
   "name": "python",
   "nbconvert_exporter": "python",
   "pygments_lexer": "ipython3",
   "version": "3.7.3"
  }
 },
 "nbformat": 4,
 "nbformat_minor": 2
}
